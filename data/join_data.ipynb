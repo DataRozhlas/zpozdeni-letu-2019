{
 "cells": [
  {
   "cell_type": "code",
   "execution_count": 1,
   "metadata": {},
   "outputs": [],
   "source": [
    "#CLI: aws s3 cp s3://datarozhlas/flightradar-leto19 . --recursive\n",
    "import json, time, os"
   ]
  },
  {
   "cell_type": "code",
   "execution_count": 11,
   "metadata": {},
   "outputs": [],
   "source": [
    "'''\n",
    "[\"identification\"][\"row\"] :: unique flight id / key\n",
    "[\"status\"][\"live\"] :: save only if False\n",
    "[\"status\"][\"generic\"][\"status\"][\"text\"] :: save only if departed/landed\n",
    "\n",
    "save:\n",
    "[\"aircraft\"][\"model\"] :: aircraft id & name\n",
    "[\"flight\"][\"airline\"][\"name\"] :: airline\n",
    "departures: [\"time\"][\"scheduled\"][\"departure\"] & [\"time\"][\"real\"][\"departure\"]\n",
    "arrivals: [\"time\"][\"scheduled\"][\"arrival\"] & [\"time\"][\"real\"][\"arrival\"]\n",
    "'''\n",
    "def processPage(page, type): #type: arrival/departure\n",
    "    pageData = {}\n",
    "    for entry in page:\n",
    "        flight = entry[\"flight\"]\n",
    "        if (flight[\"status\"][\"generic\"][\"status\"][\"text\"] == \"departed\" or flight[\"status\"][\"generic\"][\"status\"][\"text\"] == \"landed\") and flight[\"status\"][\"live\"] == False:\n",
    "            try: pageData[flight[\"identification\"][\"row\"]] = {\n",
    "                \"model\": flight[\"aircraft\"][\"model\"],\n",
    "                \"airline\": flight[\"airline\"][\"name\"],\n",
    "                \"delay\": flight[\"time\"][\"real\"][type] - flight[\"time\"][\"scheduled\"][type]\n",
    "            }\n",
    "            except: pass\n",
    "    return pageData"
   ]
  },
  {
   "cell_type": "code",
   "execution_count": 3,
   "metadata": {},
   "outputs": [],
   "source": [
    "merged_data = {}"
   ]
  },
  {
   "cell_type": "code",
   "execution_count": 12,
   "metadata": {},
   "outputs": [],
   "source": [
    "for filename in list(os.walk(\".\"))[0][2]:\n",
    "    if filename.endswith(\"json\") and \"merged\" not in filename:\n",
    "        with open(filename) as file:\n",
    "            jsonfile = json.load(file)\n",
    "            for airport in jsonfile:\n",
    "                if not airport in merged_data: merged_data[airport] = {\"arrivals\": {}, \"departures\": {}}\n",
    "                for page in jsonfile[airport][\"departures\"]:\n",
    "                    merged_data[airport][\"departures\"].update(processPage(jsonfile[airport][\"departures\"][page], \"departure\"))\n",
    "                for page in jsonfile[airport][\"arrivals\"]:\n",
    "                    merged_data[airport][\"arrivals\"].update(processPage(jsonfile[airport][\"arrivals\"][page], \"arrival\"))"
   ]
  },
  {
   "cell_type": "code",
   "execution_count": 13,
   "metadata": {},
   "outputs": [
    {
     "data": {
      "text/plain": [
       "5707"
      ]
     },
     "execution_count": 13,
     "metadata": {},
     "output_type": "execute_result"
    }
   ],
   "source": [
    "len(merged_data[\"prg\"][\"departures\"])"
   ]
  },
  {
   "cell_type": "code",
   "execution_count": 14,
   "metadata": {},
   "outputs": [],
   "source": [
    "with open(\"merged_data.json\",\"w\",encoding=\"utf8\") as file:\n",
    "    json.dump(merged_data, file)"
   ]
  }
 ],
 "metadata": {
  "kernelspec": {
   "display_name": "Python 3",
   "language": "python",
   "name": "python3"
  },
  "language_info": {
   "codemirror_mode": {
    "name": "ipython",
    "version": 3
   },
   "file_extension": ".py",
   "mimetype": "text/x-python",
   "name": "python",
   "nbconvert_exporter": "python",
   "pygments_lexer": "ipython3",
   "version": "3.7.3"
  }
 },
 "nbformat": 4,
 "nbformat_minor": 4
}
