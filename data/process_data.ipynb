{
 "cells": [
  {
   "cell_type": "code",
   "execution_count": 79,
   "metadata": {},
   "outputs": [],
   "source": [
    "import json\n",
    "with open(\"merged_data.json\") as file:\n",
    "    data = json.load(file)"
   ]
  },
  {
   "cell_type": "code",
   "execution_count": 80,
   "metadata": {},
   "outputs": [
    {
     "data": {
      "text/plain": [
       "dict_keys(['prg', 'drs', 'vie', 'muc', 'osr', 'ped', 'klv', 'brn'])"
      ]
     },
     "execution_count": 80,
     "metadata": {},
     "output_type": "execute_result"
    }
   ],
   "source": [
    "data.keys()"
   ]
  },
  {
   "cell_type": "code",
   "execution_count": 81,
   "metadata": {},
   "outputs": [
    {
     "data": {
      "text/plain": [
       "30.678923544185505"
      ]
     },
     "execution_count": 81,
     "metadata": {},
     "output_type": "execute_result"
    }
   ],
   "source": [
    "airport = \"prg\"\n",
    "dep = [data[airport][\"departures\"][flightid][\"delay\"] for flightid in data[airport][\"departures\"]]\n",
    "sum(dep)/len(dep)/60"
   ]
  },
  {
   "cell_type": "code",
   "execution_count": 82,
   "metadata": {},
   "outputs": [],
   "source": [
    "# smartwings fix\n",
    "for flightid in data[airport][\"departures\"]:\n",
    "    if data[airport][\"departures\"][flightid][\"airline\"] == \"SmartWings\":\n",
    "        data[airport][\"departures\"][flightid][\"airline\"] = \"Smartwings\""
   ]
  },
  {
   "cell_type": "code",
   "execution_count": 83,
   "metadata": {},
   "outputs": [],
   "source": [
    "airlines = sorted(set([data[airport][\"departures\"][flightid][\"airline\"].split(\" (\")[0] for flightid in data[airport][\"departures\"]]))"
   ]
  },
  {
   "cell_type": "code",
   "execution_count": 87,
   "metadata": {},
   "outputs": [],
   "source": [
    "airline_delays = []\n",
    "for airline in airlines:\n",
    "    airl_dep = [data[airport][\"departures\"][flightid][\"delay\"] for flightid in data[airport][\"departures\"] if airline in data[airport][\"departures\"][flightid][\"airline\"]]\n",
    "    if len(airl_dep) > 50:\n",
    "        airline_delays.append([airline, len(airl_dep), round(sum(airl_dep)/len(airl_dep)/60, 2)])"
   ]
  },
  {
   "cell_type": "code",
   "execution_count": 89,
   "metadata": {},
   "outputs": [
    {
     "name": "stdout",
     "output_type": "stream",
     "text": [
      "Qatar Airways 12.49\n",
      "LOT 12.59\n",
      "Austrian Airlines 14.72\n",
      "Aeroflot 15.24\n",
      "KLM 18.07\n",
      "Emirates 19.02\n",
      "Lufthansa 20.35\n",
      "Czech Airlines 23.08\n",
      "Jet2 23.49\n",
      "Swiss 24.86\n",
      "Eurowings 25.61\n",
      "Air France 26.59\n",
      "Finnair 26.78\n",
      "Norwegian 27.45\n",
      "Ryanair 27.71\n",
      "Turkish Airlines 28.41\n",
      "British Airways 31.63\n",
      "Smartwings 37.75\n",
      "easyJet 39.38\n",
      "Swift Air 42.1\n",
      "Vueling 47.06\n"
     ]
    }
   ],
   "source": [
    "airline_delays.sort(key=lambda x: x[2])\n",
    "for airline in airline_delays: print(airline[0], airline[2])"
   ]
  },
  {
   "cell_type": "code",
   "execution_count": 20,
   "metadata": {},
   "outputs": [
    {
     "data": {
      "text/plain": [
       "{'AMC Airlines',\n",
       " 'Adria Airways',\n",
       " 'Aegean Airlines',\n",
       " 'Aegean Airlines (Star Alliance livery)',\n",
       " 'Aer Lingus',\n",
       " 'Aer Lingus (Retro livery)',\n",
       " 'Aeroflot',\n",
       " 'Aeroflot (95 years with you Livery)',\n",
       " 'Aeroflot (Retro Livery)',\n",
       " 'Aeroflot (SkyTeam Livery)',\n",
       " 'Aigle Azur',\n",
       " 'Air Arabia',\n",
       " 'Air Baltic',\n",
       " 'Air Baltic (Estonian Flag Livery)',\n",
       " 'Air Cairo',\n",
       " 'Air Canada Rouge',\n",
       " 'Air Dolomiti',\n",
       " 'Air France',\n",
       " 'Air Malta',\n",
       " 'Air Malta (Nickelodeon Livery)',\n",
       " 'Air Malta (Retro Livery)',\n",
       " 'Air Mediterranean',\n",
       " 'Air Transat',\n",
       " 'AirSERBIA',\n",
       " 'Alitalia',\n",
       " 'Alitalia (Employee Signatures Livery)',\n",
       " 'American Airlines',\n",
       " 'AtlasGlobal',\n",
       " 'Austrian Airlines',\n",
       " 'Austrian Airlines (Star Alliance Livery)',\n",
       " 'Azerbaijan Airlines',\n",
       " 'Belavia',\n",
       " 'British Airways',\n",
       " 'British Airways (Red Nose)',\n",
       " 'Brussels Airlines',\n",
       " 'Brussels Airlines (Star Alliance Livery)',\n",
       " 'Bul Air',\n",
       " 'Bulgaria Air',\n",
       " 'China Airlines Cargo',\n",
       " 'China Eastern Airlines',\n",
       " 'China Eastern Airlines (Greenland Group Livery)',\n",
       " 'China Eastern Airlines (Peoples Daily Online)',\n",
       " 'China Eastern Airlines (SkyTeam Livery)',\n",
       " 'China Eastern Airlines (eastday.com Livery)',\n",
       " 'CityJet',\n",
       " 'Cityjet',\n",
       " 'Corendon Airlines',\n",
       " 'Croatia Airlines',\n",
       " 'Cyprus Airways',\n",
       " 'Czech Airlines',\n",
       " 'Czech Airlines (SkyTeam Livery)',\n",
       " 'Delta Air Lines',\n",
       " 'Delta Air Lines (SkyTeam Livery)',\n",
       " 'Edelweiss Air',\n",
       " 'El Al Israel Airlines',\n",
       " 'Emirates',\n",
       " 'Ethiopian Airlines',\n",
       " 'Eurowings',\n",
       " 'Eurowings (Borussia Dortmund Livery)',\n",
       " 'Finnair',\n",
       " 'Finnair (Oneworld Livery)',\n",
       " 'Georgian Airways',\n",
       " 'GetJet Airlines',\n",
       " 'Global Aviation',\n",
       " 'HOP!',\n",
       " 'Hainan Airlines',\n",
       " 'Helvetic Airways',\n",
       " 'Iberia',\n",
       " 'Iberia (Cantabria Livery)',\n",
       " 'Jet2',\n",
       " 'KLM',\n",
       " 'Korean Air',\n",
       " 'LOT',\n",
       " 'LOT (Podkarpackie livery)',\n",
       " 'LOT (Star Alliance Livery)',\n",
       " 'LOT (Visit Tel Aviv / Jerusalem Livery)',\n",
       " 'Lufthansa',\n",
       " 'Lufthansa (Die Maus Sticker)',\n",
       " 'Lufthansa (Lu Sticker)',\n",
       " 'Lufthansa (Retro livery)',\n",
       " 'Lufthansa (Say yes to Europe Livery)',\n",
       " 'Lufthansa (Star Alliance Livery)',\n",
       " 'Luxair',\n",
       " 'Nordica',\n",
       " 'Norwegian',\n",
       " 'Norwegian (Amalie Skram Livery)',\n",
       " 'Norwegian (Anders Zorn Livery)',\n",
       " 'Norwegian (Carl Larsson livery)',\n",
       " 'Norwegian (Christina Nilsson Livery)',\n",
       " 'Norwegian (Christopher Columbus Livery)',\n",
       " 'Norwegian (Evert Taube livery)',\n",
       " 'Norwegian (Fredrikke Marie Qvam Livery)',\n",
       " 'Norwegian (Helge Ingstad Livery)',\n",
       " 'Norwegian (Helmer Hansen Livery)',\n",
       " 'Norwegian (Ivar Aasen Livery)',\n",
       " 'Norwegian (Jenny Lind Livery)',\n",
       " 'Norwegian (Juan Sebastián Elcano Livery)',\n",
       " 'Norwegian (Ludvig Holberg Livery)',\n",
       " 'Norwegian (Miguel de Cervantes Livery)',\n",
       " 'Norwegian (Minna Canth Livery)',\n",
       " 'Norwegian (Otto Sverdrup Livery)',\n",
       " 'Norwegian (Sonja Henie livery)',\n",
       " 'Norwegian (Vilhelm Bjerknes Livery)',\n",
       " 'Norwegian (Wenche Foss livery)',\n",
       " 'Onur Air',\n",
       " 'Pegasus Airlines',\n",
       " 'Private owner',\n",
       " 'Qatar Airways',\n",
       " 'Qatar Cargo',\n",
       " 'Rossiya',\n",
       " 'Ryanair',\n",
       " 'S7 Airlines',\n",
       " 'SAS',\n",
       " 'Saudia',\n",
       " 'Sichuan Airlines',\n",
       " 'Sichuan Airlines (Wuliangye Livery)',\n",
       " 'SmartLynx',\n",
       " 'SmartWings',\n",
       " 'Smartwings',\n",
       " \"Sun d'Or International Airlines\",\n",
       " 'Swift Air',\n",
       " 'Swiss',\n",
       " 'Swiss (Fete des Vignerons 2019 Livery)',\n",
       " 'Swiss (Star Alliance Livery)',\n",
       " 'TAP Air Portugal',\n",
       " 'TAP Air Portugal (Star Alliance Livery)',\n",
       " 'Tarom',\n",
       " 'Tarom (Happy 60 years Livery)',\n",
       " 'Tarom (SkyTeam Livery)',\n",
       " 'Transavia',\n",
       " 'Tunisair',\n",
       " 'Tunisair (Carthage Eagles FIFA 2018 Livery)',\n",
       " 'Tunisair (Retro Livery)',\n",
       " 'Turkish Airlines',\n",
       " 'Turkish Airlines (EuroLeague Livery)',\n",
       " 'Turkish Airlines (Star Alliance livery)',\n",
       " 'Turkish Cargo',\n",
       " 'Ukraine International Airlines',\n",
       " 'United Airlines',\n",
       " 'United Airlines (Star Alliance livery)',\n",
       " 'Ural Airlines',\n",
       " 'Volotea',\n",
       " 'Vueling',\n",
       " 'Vueling (25 years Disneyland Livery)',\n",
       " 'Vueling (Disneyland Paris Livery)',\n",
       " 'Vueling (We love places Livery)',\n",
       " 'WDL Aviation',\n",
       " 'Wizz Air',\n",
       " 'easyJet',\n",
       " 'easyJet (250th Airbus Livery)',\n",
       " 'easyJet (Amsterdam Livery)',\n",
       " 'easyJet (Europcar Livery)',\n",
       " 'easyJet (NEO Livery)',\n",
       " 'easyJet (UNICEF Livery)',\n",
       " 'flydubai'}"
      ]
     },
     "execution_count": 20,
     "metadata": {},
     "output_type": "execute_result"
    }
   ],
   "source": [
    "airlines"
   ]
  }
 ],
 "metadata": {
  "kernelspec": {
   "display_name": "Python 3",
   "language": "python",
   "name": "python3"
  },
  "language_info": {
   "codemirror_mode": {
    "name": "ipython",
    "version": 3
   },
   "file_extension": ".py",
   "mimetype": "text/x-python",
   "name": "python",
   "nbconvert_exporter": "python",
   "pygments_lexer": "ipython3",
   "version": "3.7.3"
  }
 },
 "nbformat": 4,
 "nbformat_minor": 4
}
